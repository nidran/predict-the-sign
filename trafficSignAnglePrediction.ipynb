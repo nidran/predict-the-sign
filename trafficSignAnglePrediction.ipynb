{
 "cells": [
  {
   "cell_type": "code",
   "execution_count": 3,
   "metadata": {},
   "outputs": [],
   "source": [
    "import pandas as pd\n",
    "import numpy as np\n",
    "import xgboost as xgb\n",
    "from sklearn.model_selection import StratifiedKFold as SKF\n",
    "from sklearn.metrics import log_loss as ll\n",
    "import gc\n",
    "%matplotlib inline\n",
    "from matplotlib import pyplot as plt"
   ]
  },
  {
   "cell_type": "code",
   "execution_count": 4,
   "metadata": {
    "collapsed": true
   },
   "outputs": [],
   "source": [
    "df_train=pd.read_csv('data/train.csv')\n",
    "df_test=pd.read_csv('data/test.csv')"
   ]
  },
  {
   "cell_type": "code",
   "execution_count": 5,
   "metadata": {},
   "outputs": [
    {
     "data": {
      "text/html": [
       "<div>\n",
       "<style>\n",
       "    .dataframe thead tr:only-child th {\n",
       "        text-align: right;\n",
       "    }\n",
       "\n",
       "    .dataframe thead th {\n",
       "        text-align: left;\n",
       "    }\n",
       "\n",
       "    .dataframe tbody tr th {\n",
       "        vertical-align: top;\n",
       "    }\n",
       "</style>\n",
       "<table border=\"1\" class=\"dataframe\">\n",
       "  <thead>\n",
       "    <tr style=\"text-align: right;\">\n",
       "      <th></th>\n",
       "      <th>AngleOfSign</th>\n",
       "      <th>SignAspectRatio</th>\n",
       "      <th>SignWidth</th>\n",
       "      <th>SignHeight</th>\n",
       "    </tr>\n",
       "  </thead>\n",
       "  <tbody>\n",
       "    <tr>\n",
       "      <th>count</th>\n",
       "      <td>38485.000000</td>\n",
       "      <td>38485.000000</td>\n",
       "      <td>38485.000000</td>\n",
       "      <td>38485.000000</td>\n",
       "    </tr>\n",
       "    <tr>\n",
       "      <th>mean</th>\n",
       "      <td>132.930986</td>\n",
       "      <td>0.901241</td>\n",
       "      <td>92.922957</td>\n",
       "      <td>104.993140</td>\n",
       "    </tr>\n",
       "    <tr>\n",
       "      <th>std</th>\n",
       "      <td>98.042472</td>\n",
       "      <td>0.226068</td>\n",
       "      <td>52.399274</td>\n",
       "      <td>53.347424</td>\n",
       "    </tr>\n",
       "    <tr>\n",
       "      <th>min</th>\n",
       "      <td>1.000000</td>\n",
       "      <td>0.260000</td>\n",
       "      <td>19.000000</td>\n",
       "      <td>23.000000</td>\n",
       "    </tr>\n",
       "    <tr>\n",
       "      <th>25%</th>\n",
       "      <td>42.000000</td>\n",
       "      <td>0.770000</td>\n",
       "      <td>54.000000</td>\n",
       "      <td>65.000000</td>\n",
       "    </tr>\n",
       "    <tr>\n",
       "      <th>50%</th>\n",
       "      <td>80.000000</td>\n",
       "      <td>0.930000</td>\n",
       "      <td>80.000000</td>\n",
       "      <td>96.000000</td>\n",
       "    </tr>\n",
       "    <tr>\n",
       "      <th>75%</th>\n",
       "      <td>228.000000</td>\n",
       "      <td>1.040000</td>\n",
       "      <td>118.000000</td>\n",
       "      <td>132.000000</td>\n",
       "    </tr>\n",
       "    <tr>\n",
       "      <th>max</th>\n",
       "      <td>360.000000</td>\n",
       "      <td>2.790000</td>\n",
       "      <td>589.000000</td>\n",
       "      <td>513.000000</td>\n",
       "    </tr>\n",
       "  </tbody>\n",
       "</table>\n",
       "</div>"
      ],
      "text/plain": [
       "        AngleOfSign  SignAspectRatio     SignWidth    SignHeight\n",
       "count  38485.000000     38485.000000  38485.000000  38485.000000\n",
       "mean     132.930986         0.901241     92.922957    104.993140\n",
       "std       98.042472         0.226068     52.399274     53.347424\n",
       "min        1.000000         0.260000     19.000000     23.000000\n",
       "25%       42.000000         0.770000     54.000000     65.000000\n",
       "50%       80.000000         0.930000     80.000000     96.000000\n",
       "75%      228.000000         1.040000    118.000000    132.000000\n",
       "max      360.000000         2.790000    589.000000    513.000000"
      ]
     },
     "execution_count": 5,
     "metadata": {},
     "output_type": "execute_result"
    }
   ],
   "source": [
    "df_train.describe()"
   ]
  },
  {
   "cell_type": "code",
   "execution_count": 7,
   "metadata": {},
   "outputs": [
    {
     "data": {
      "text/html": [
       "<div>\n",
       "<style>\n",
       "    .dataframe thead tr:only-child th {\n",
       "        text-align: right;\n",
       "    }\n",
       "\n",
       "    .dataframe thead th {\n",
       "        text-align: left;\n",
       "    }\n",
       "\n",
       "    .dataframe tbody tr th {\n",
       "        vertical-align: top;\n",
       "    }\n",
       "</style>\n",
       "<table border=\"1\" class=\"dataframe\">\n",
       "  <thead>\n",
       "    <tr style=\"text-align: right;\">\n",
       "      <th></th>\n",
       "      <th>Id</th>\n",
       "      <th>DetectedCamera</th>\n",
       "      <th>AngleOfSign</th>\n",
       "      <th>SignAspectRatio</th>\n",
       "      <th>SignWidth</th>\n",
       "      <th>SignHeight</th>\n",
       "      <th>SignFacing (Target)</th>\n",
       "    </tr>\n",
       "  </thead>\n",
       "  <tbody>\n",
       "    <tr>\n",
       "      <th>0</th>\n",
       "      <td>2c9180975a056a64015a1e0a52e57021</td>\n",
       "      <td>Rear</td>\n",
       "      <td>195</td>\n",
       "      <td>1.02</td>\n",
       "      <td>46</td>\n",
       "      <td>45</td>\n",
       "      <td>Rear</td>\n",
       "    </tr>\n",
       "  </tbody>\n",
       "</table>\n",
       "</div>"
      ],
      "text/plain": [
       "                                 Id DetectedCamera  AngleOfSign  \\\n",
       "0  2c9180975a056a64015a1e0a52e57021           Rear          195   \n",
       "\n",
       "   SignAspectRatio  SignWidth  SignHeight SignFacing (Target)  \n",
       "0             1.02         46          45                Rear  "
      ]
     },
     "execution_count": 7,
     "metadata": {},
     "output_type": "execute_result"
    }
   ],
   "source": [
    "df_train.head(1)"
   ]
  },
  {
   "cell_type": "code",
   "execution_count": 8,
   "metadata": {},
   "outputs": [
    {
     "data": {
      "text/plain": [
       "(38485, 7)"
      ]
     },
     "execution_count": 8,
     "metadata": {},
     "output_type": "execute_result"
    }
   ],
   "source": [
    "df_train.shape"
   ]
  },
  {
   "cell_type": "code",
   "execution_count": 9,
   "metadata": {},
   "outputs": [
    {
     "data": {
      "text/plain": [
       "(31485, 6)"
      ]
     },
     "execution_count": 9,
     "metadata": {},
     "output_type": "execute_result"
    }
   ],
   "source": [
    "df_test.shape"
   ]
  },
  {
   "cell_type": "code",
   "execution_count": 10,
   "metadata": {},
   "outputs": [
    {
     "data": {
      "text/html": [
       "<div>\n",
       "<style>\n",
       "    .dataframe thead tr:only-child th {\n",
       "        text-align: right;\n",
       "    }\n",
       "\n",
       "    .dataframe thead th {\n",
       "        text-align: left;\n",
       "    }\n",
       "\n",
       "    .dataframe tbody tr th {\n",
       "        vertical-align: top;\n",
       "    }\n",
       "</style>\n",
       "<table border=\"1\" class=\"dataframe\">\n",
       "  <thead>\n",
       "    <tr style=\"text-align: right;\">\n",
       "      <th></th>\n",
       "      <th>Id</th>\n",
       "      <th>DetectedCamera</th>\n",
       "      <th>AngleOfSign</th>\n",
       "      <th>SignAspectRatio</th>\n",
       "      <th>SignWidth</th>\n",
       "      <th>SignHeight</th>\n",
       "    </tr>\n",
       "  </thead>\n",
       "  <tbody>\n",
       "    <tr>\n",
       "      <th>0</th>\n",
       "      <td>2c9180975a056a64015a1e10d3f270fe</td>\n",
       "      <td>Right</td>\n",
       "      <td>67</td>\n",
       "      <td>0.63</td>\n",
       "      <td>107</td>\n",
       "      <td>169</td>\n",
       "    </tr>\n",
       "  </tbody>\n",
       "</table>\n",
       "</div>"
      ],
      "text/plain": [
       "                                 Id DetectedCamera  AngleOfSign  \\\n",
       "0  2c9180975a056a64015a1e10d3f270fe          Right           67   \n",
       "\n",
       "   SignAspectRatio  SignWidth  SignHeight  \n",
       "0             0.63        107         169  "
      ]
     },
     "execution_count": 10,
     "metadata": {},
     "output_type": "execute_result"
    }
   ],
   "source": [
    "df_test.head(1)"
   ]
  },
  {
   "cell_type": "code",
   "execution_count": 17,
   "metadata": {},
   "outputs": [
    {
     "data": {
      "text/plain": [
       "Index([u'Id', u'DetectedCamera', u'AngleOfSign', u'SignAspectRatio',\n",
       "       u'SignWidth', u'SignHeight', u'Target'],\n",
       "      dtype='object')"
      ]
     },
     "execution_count": 17,
     "metadata": {},
     "output_type": "execute_result"
    }
   ],
   "source": [
    "df_train.columns"
   ]
  },
  {
   "cell_type": "code",
   "execution_count": 15,
   "metadata": {
    "collapsed": true
   },
   "outputs": [],
   "source": [
    "df_train.columns=['Id','DetectedCamera','AngleOfSign','SignAspectRatio','SignWidth','SignHeight','Target']"
   ]
  },
  {
   "cell_type": "code",
   "execution_count": 16,
   "metadata": {},
   "outputs": [],
   "source": [
    "train_id=df_train.Id.values\n",
    "test_id=df_test.Id.values\n",
    "Y=df_train.Target"
   ]
  },
  {
   "cell_type": "code",
   "execution_count": 18,
   "metadata": {
    "collapsed": true
   },
   "outputs": [],
   "source": [
    "df_train.drop(['Id','Target'], axis=1, inplace=True)\n",
    "df_test.drop(['Id'], axis=1, inplace=True)"
   ]
  },
  {
   "cell_type": "code",
   "execution_count": 19,
   "metadata": {
    "collapsed": true
   },
   "outputs": [],
   "source": [
    "df_train['Id_Perc']=pd.Series(range(len(df_train))).astype('float') / len(df_train)\n",
    "df_test['Id_Perc']=pd.Series(range(len(df_test))).astype('float') / len(df_test)"
   ]
  },
  {
   "cell_type": "code",
   "execution_count": 21,
   "metadata": {},
   "outputs": [],
   "source": [
    "df_full=df_train.append(df_test)"
   ]
  },
  {
   "cell_type": "code",
   "execution_count": 22,
   "metadata": {
    "collapsed": true
   },
   "outputs": [],
   "source": [
    "df_full.DetectedCamera.replace({'Front':0,'Left':1, 'Rear':2, 'Right':3}, inplace=True)"
   ]
  },
  {
   "cell_type": "code",
   "execution_count": 25,
   "metadata": {},
   "outputs": [
    {
     "data": {
      "text/plain": [
       "[0, 1, 2, 3]"
      ]
     },
     "execution_count": 25,
     "metadata": {},
     "output_type": "execute_result"
    }
   ],
   "source": [
    "list(set(df_full.DetectedCamera.values))"
   ]
  },
  {
   "cell_type": "code",
   "execution_count": 26,
   "metadata": {
    "collapsed": true
   },
   "outputs": [],
   "source": [
    "Y.replace({'Front':0,'Left':1, 'Rear':2, 'Right':3}, inplace=True)\n",
    "Y=Y.values"
   ]
  },
  {
   "cell_type": "code",
   "execution_count": 28,
   "metadata": {},
   "outputs": [
    {
     "data": {
      "text/plain": [
       "[0, 1, 2, 3]"
      ]
     },
     "execution_count": 28,
     "metadata": {},
     "output_type": "execute_result"
    }
   ],
   "source": [
    "list(set(Y))"
   ]
  },
  {
   "cell_type": "code",
   "execution_count": 29,
   "metadata": {
    "collapsed": true
   },
   "outputs": [],
   "source": [
    "df_full.AngleOfSign=np.radians(df_full.AngleOfSign)"
   ]
  },
  {
   "cell_type": "code",
   "execution_count": 32,
   "metadata": {},
   "outputs": [
    {
     "data": {
      "text/plain": [
       "0    3.403392\n",
       "1    3.543018\n",
       "2    0.453786\n",
       "3    3.473205\n",
       "4    3.630285\n",
       "Name: AngleOfSign, dtype: float64"
      ]
     },
     "execution_count": 32,
     "metadata": {},
     "output_type": "execute_result"
    }
   ],
   "source": [
    "df_full.AngleOfSign[:5]"
   ]
  },
  {
   "cell_type": "code",
   "execution_count": 33,
   "metadata": {
    "collapsed": true
   },
   "outputs": [],
   "source": [
    "df_full['Sin']=np.sin(df_full.AngleOfSign) \n",
    "df_full['Cos']=np.cos(df_full.AngleOfSign) \n",
    "df_full['SignArea']=df_full.SignWidth * df_full.SignHeight \n"
   ]
  },
  {
   "cell_type": "code",
   "execution_count": 34,
   "metadata": {
    "collapsed": true
   },
   "outputs": [],
   "source": [
    "df_full['MirrorAngle']=max(df_full.AngleOfSign)-df_full.AngleOfSign #360 - Angle\n",
    "df_full['sqrtAngle']=df_full.AngleOfSign ** 0.5\n",
    "df_full['Angle_Ht']=df_full.AngleOfSign * df_full.SignHeight\n",
    "df_full['Angle_AR']=df_full.AngleOfSign * df_full.SignAspectRatio\n",
    "df_full['Tan']=df_full.Sin / df_full.Cos\n",
    "df_full['SinCos']=df_full.Sin * df_full.Cos"
   ]
  },
  {
   "cell_type": "code",
   "execution_count": 35,
   "metadata": {
    "collapsed": true
   },
   "outputs": [],
   "source": [
    "df_full=pd.get_dummies(df_full, columns=['DetectedCamera'], sparse=False)"
   ]
  },
  {
   "cell_type": "code",
   "execution_count": 36,
   "metadata": {
    "collapsed": true
   },
   "outputs": [],
   "source": [
    "df_train=df_full[:len(df_train)]\n",
    "df_test=df_full[len(df_train):]"
   ]
  },
  {
   "cell_type": "code",
   "execution_count": 37,
   "metadata": {
    "collapsed": true
   },
   "outputs": [],
   "source": [
    "dtest=xgb.DMatrix(df_test)\n",
    "xgb_params = {\n",
    "    'seed': 619, \n",
    "    'colsample_bytree': 0.67,\n",
    "    'silent': 1,\n",
    "    'subsample': 0.9,\n",
    "    'learning_rate': 0.05,\n",
    "    'objective': 'multi:softprob',\n",
    "    'num_class': 4,\n",
    "    'max_depth': 4, \n",
    "    'min_child_weight': 3, \n",
    "    'alpha': 0.02,\n",
    "    'eval_metric' : 'mlogloss'\n",
    "    \n",
    "}"
   ]
  },
  {
   "cell_type": "code",
   "execution_count": 38,
   "metadata": {
    "collapsed": true
   },
   "outputs": [],
   "source": [
    "nrounds = 2000  \n",
    "kfolds = 5 "
   ]
  },
  {
   "cell_type": "code",
   "execution_count": 39,
   "metadata": {
    "collapsed": true
   },
   "outputs": [],
   "source": [
    "oof_train=pd.DataFrame({'ID': train_id, 'Front':0, 'Left':0, 'Rear':0, 'Right':0})\n"
   ]
  },
  {
   "cell_type": "code",
   "execution_count": 40,
   "metadata": {
    "collapsed": true
   },
   "outputs": [],
   "source": [
    "best=[]\n",
    "score=[]\n"
   ]
  },
  {
   "cell_type": "code",
   "execution_count": 41,
   "metadata": {},
   "outputs": [
    {
     "name": "stdout",
     "output_type": "stream",
     "text": [
      "Fold 1\n",
      "[0]\ttrain-mlogloss:1.2953\teval-mlogloss:1.29548\n",
      "Multiple eval metrics have been passed: 'eval-mlogloss' will be used for early stopping.\n",
      "\n",
      "Will train until eval-mlogloss hasn't improved in 25 rounds.\n",
      "[50]\ttrain-mlogloss:0.167513\teval-mlogloss:0.172438\n",
      "[100]\ttrain-mlogloss:0.094189\teval-mlogloss:0.101351\n",
      "[150]\ttrain-mlogloss:0.083485\teval-mlogloss:0.093707\n",
      "[200]\ttrain-mlogloss:0.078747\teval-mlogloss:0.092174\n",
      "[250]\ttrain-mlogloss:0.074537\teval-mlogloss:0.091433\n",
      "[300]\ttrain-mlogloss:0.070751\teval-mlogloss:0.091239\n",
      "[350]\ttrain-mlogloss:0.067008\teval-mlogloss:0.090772\n",
      "Stopping. Best iteration:\n",
      "[352]\ttrain-mlogloss:0.066848\teval-mlogloss:0.090737\n",
      "\n",
      "Fold 2\n",
      "[0]\ttrain-mlogloss:1.29517\teval-mlogloss:1.29536\n",
      "Multiple eval metrics have been passed: 'eval-mlogloss' will be used for early stopping.\n",
      "\n",
      "Will train until eval-mlogloss hasn't improved in 25 rounds.\n",
      "[50]\ttrain-mlogloss:0.165759\teval-mlogloss:0.175093\n",
      "[100]\ttrain-mlogloss:0.091945\teval-mlogloss:0.108717\n",
      "[150]\ttrain-mlogloss:0.081377\teval-mlogloss:0.103279\n",
      "[200]\ttrain-mlogloss:0.076518\teval-mlogloss:0.102808\n",
      "Stopping. Best iteration:\n",
      "[209]\ttrain-mlogloss:0.075622\teval-mlogloss:0.102654\n",
      "\n",
      "Fold 3\n",
      "[0]\ttrain-mlogloss:1.29533\teval-mlogloss:1.29544\n",
      "Multiple eval metrics have been passed: 'eval-mlogloss' will be used for early stopping.\n",
      "\n",
      "Will train until eval-mlogloss hasn't improved in 25 rounds.\n",
      "[50]\ttrain-mlogloss:0.167599\teval-mlogloss:0.171007\n",
      "[100]\ttrain-mlogloss:0.094604\teval-mlogloss:0.101158\n",
      "[150]\ttrain-mlogloss:0.083984\teval-mlogloss:0.093905\n",
      "[200]\ttrain-mlogloss:0.078975\teval-mlogloss:0.092556\n",
      "[250]\ttrain-mlogloss:0.074501\teval-mlogloss:0.092109\n",
      "[300]\ttrain-mlogloss:0.070357\teval-mlogloss:0.091977\n",
      "Stopping. Best iteration:\n",
      "[318]\ttrain-mlogloss:0.068953\teval-mlogloss:0.091912\n",
      "\n",
      "Fold 4\n",
      "[0]\ttrain-mlogloss:1.29532\teval-mlogloss:1.2956\n",
      "Multiple eval metrics have been passed: 'eval-mlogloss' will be used for early stopping.\n",
      "\n",
      "Will train until eval-mlogloss hasn't improved in 25 rounds.\n",
      "[50]\ttrain-mlogloss:0.165816\teval-mlogloss:0.175774\n",
      "[100]\ttrain-mlogloss:0.092169\teval-mlogloss:0.109669\n",
      "[150]\ttrain-mlogloss:0.081791\teval-mlogloss:0.102927\n",
      "[200]\ttrain-mlogloss:0.076952\teval-mlogloss:0.101605\n",
      "[250]\ttrain-mlogloss:0.072728\teval-mlogloss:0.101309\n",
      "Stopping. Best iteration:\n",
      "[243]\ttrain-mlogloss:0.073295\teval-mlogloss:0.101208\n",
      "\n",
      "Fold 5\n",
      "[0]\ttrain-mlogloss:1.2954\teval-mlogloss:1.29561\n",
      "Multiple eval metrics have been passed: 'eval-mlogloss' will be used for early stopping.\n",
      "\n",
      "Will train until eval-mlogloss hasn't improved in 25 rounds.\n",
      "[50]\ttrain-mlogloss:0.167752\teval-mlogloss:0.171095\n",
      "[100]\ttrain-mlogloss:0.094283\teval-mlogloss:0.100496\n",
      "[150]\ttrain-mlogloss:0.083448\teval-mlogloss:0.093889\n",
      "[200]\ttrain-mlogloss:0.078134\teval-mlogloss:0.093013\n",
      "Stopping. Best iteration:\n",
      "[206]\ttrain-mlogloss:0.077576\teval-mlogloss:0.092935\n",
      "\n",
      "0.0958892074542\n",
      "266.6\n"
     ]
    }
   ],
   "source": [
    "skf = SKF( n_splits=kfolds, shuffle=True,random_state=123)\n",
    "i=0\n",
    "for train_index, test_index in skf.split(df_train, Y):\n",
    "    print('Fold {0}'.format(i + 1))\n",
    "    X_train, X_val = df_train.iloc[train_index], df_train.iloc[test_index]\n",
    "    y_train, y_val = Y[train_index],Y[test_index]\n",
    "\n",
    "    dtrain = xgb.DMatrix(X_train,y_train)\n",
    "    dval = xgb.DMatrix(X_val,y_val)\n",
    "    watchlist = [(dtrain, 'train'), (dval, 'eval')]\n",
    "\n",
    "    gbdt = xgb.train(xgb_params, dtrain, nrounds, watchlist,\n",
    "                         verbose_eval=50,\n",
    "                         early_stopping_rounds=25)  \n",
    "    bst=gbdt.best_ntree_limit\n",
    "    pred=gbdt.predict(dval, ntree_limit=bst)\n",
    "    oof_train.loc[test_index,\"Front\"]= pred[:,0]\n",
    "    oof_train.loc[test_index,\"Left\"]= pred[:,1]\n",
    "    oof_train.loc[test_index,\"Rear\"]= pred[:,2]\n",
    "    oof_train.loc[test_index,\"Right\"]= pred[:,3]\n",
    "    scr=ll(y_val,pred) \n",
    "    \n",
    "    best.append(bst)    \n",
    "    score.append(scr)\n",
    "    i+=1\n",
    "    \n",
    "    del dtrain\n",
    "    del dval\n",
    "    del gbdt\n",
    "    gc.collect()\n",
    "\n",
    "print(np.mean(score))\n",
    "print(np.mean(best))\n"
   ]
  },
  {
   "cell_type": "code",
   "execution_count": 43,
   "metadata": {},
   "outputs": [
    {
     "name": "stdout",
     "output_type": "stream",
     "text": [
      "[0]\ttrain-mlogloss:1.29538\n",
      "Will train until train-mlogloss hasn't improved in 25 rounds.\n",
      "[50]\ttrain-mlogloss:0.167823\n",
      "[100]\ttrain-mlogloss:0.094742\n",
      "[150]\ttrain-mlogloss:0.084706\n",
      "[200]\ttrain-mlogloss:0.080272\n",
      "[250]\ttrain-mlogloss:0.076562\n"
     ]
    }
   ],
   "source": [
    "best_nrounds=int(round(np.mean(best)))\n",
    "dtrain=xgb.DMatrix(df_train,Y)\n",
    "\n",
    "watchlist = [(dtrain, 'train')]\n",
    "gbdt = xgb.train(xgb_params, dtrain, best_nrounds,watchlist,verbose_eval=50,early_stopping_rounds=25)\n",
    "pred=gbdt.predict(dtest)\n",
    "pred=pd.DataFrame(pred, columns=['Front','Left','Rear','Right'])\n",
    "pred['Id']=test_id\n",
    "pred=pred[['Id','Front','Left','Rear','Right']]\n",
    "pred.to_csv('xgb_submission.csv', index=False)"
   ]
  },
  {
   "cell_type": "code",
   "execution_count": null,
   "metadata": {
    "collapsed": true
   },
   "outputs": [],
   "source": []
  }
 ],
 "metadata": {
  "kernelspec": {
   "display_name": "Python 2",
   "language": "python",
   "name": "python2"
  },
  "language_info": {
   "codemirror_mode": {
    "name": "ipython",
    "version": 2
   },
   "file_extension": ".py",
   "mimetype": "text/x-python",
   "name": "python",
   "nbconvert_exporter": "python",
   "pygments_lexer": "ipython2",
   "version": "2.7.13"
  }
 },
 "nbformat": 4,
 "nbformat_minor": 2
}
